{
 "cells": [
  {
   "cell_type": "markdown",
   "metadata": {},
   "source": [
    "# Technical environment "
   ]
  },
  {
   "cell_type": "markdown",
   "metadata": {},
   "source": [
    "The aim of this notebook is to summarize the submission pipeline and associated environment."
   ]
  },
  {
   "cell_type": "markdown",
   "metadata": {},
   "source": [
    "#### Codabench\n",
    "\n",
    "Codabench is an open source benchmark/competition management plateform. All submissions are processedthrough it. The codabench plateform is in charge of the submission lifecycle management (submission, validation, dispatch and results agregation), the execution of the submission being managed by our submission pipeline.\n",
    "\n",
    "##### Codabench architecture :\n",
    "\n",
    "![Alt text](utils/img/codabench_architecture.png)\n",
    "\n",
    "Submission are made through Codabench IHM (cf notebook 7) before being dispatch to the first available worker through the queue manager.\n",
    "\n"
   ]
  },
  {
   "cell_type": "markdown",
   "metadata": {},
   "source": [
    "#### GPU workers - submission execution\n",
    "\n",
    "After the submission bundle is sent to the GPU worker, an execution container (runner) is instanciated. The content of the bundle is unzipped in the runner. The ingestion program is then executed and will generate a metrics.json file which is passed to the scoring program. The scores are then sent back to the codabench plateform. \n",
    "\n",
    "In the warm-up phase, it is possible to only submit pre-calculated metrics or pre-trained models. However in the final phase all model will need to be trained and evaluated through the plateform. \n",
    "\n",
    "![Alt text](utils/img/processing.png)\n"
   ]
  },
  {
   "cell_type": "markdown",
   "metadata": {},
   "source": [
    "\n",
    "### Technical environnment of the runner\n",
    "\n",
    "\n",
    "The runner consist of a docker container, this insure a self contained running environnment and consistency accross the servers used to run submissions. \n",
    "It is based on a pytorch image : `pytorch/pytorch:2.0.1-cuda11.7-cudnn8-devel` running `python 3.8` in addition `tensorflow 2.8` is installed.\n",
    "\n",
    "Currently the following packages are also installed :\n",
    "- airfrans\n",
    "- numpy==1.21.5\n",
    "- scikit_learn\n",
    "- tqdm\n",
    "- matplotlib\n",
    "- scipy<=1.6.0\n",
    "- six\n",
    "- pathlib\n",
    "- numba\n",
    "- pybind11==2.8.1\n",
    "- protobuf==3.20.1\n",
    "- pandapower==2.7.0\n",
    "- pandas==1.4.2\n",
    "- jupyter\n",
    "- tensorflow==2.8.0\n",
    "- torch==2.0.1\n",
    "- filelock==3.7.1\n",
    "- json2table==1.1.5\n",
    "- loguru==0.6.0\n",
    "- PyYAML==6.0\n",
    "\n",
    "In case a participant would like to have access to another python package during the competition, a request can be submitted to the organizers. "
   ]
  }
 ],
 "metadata": {
  "kernelspec": {
   "display_name": "Python 3 (ipykernel)",
   "language": "python",
   "name": "python3"
  },
  "language_info": {
   "codemirror_mode": {
    "name": "ipython",
    "version": 3
   },
   "file_extension": ".py",
   "mimetype": "text/x-python",
   "name": "python",
   "nbconvert_exporter": "python",
   "pygments_lexer": "ipython3",
   "version": "3.8.10"
  }
 },
 "nbformat": 4,
 "nbformat_minor": 4
}
