{
 "cells": [
  {
   "cell_type": "markdown",
   "metadata": {},
   "source": [
    "# How to create a submission in codabench"
   ]
  },
  {
   "cell_type": "markdown",
   "metadata": {},
   "source": [
    "The aim of this notebook is to show how to create a submission. It present necessary and optionnal components."
   ]
  },
  {
   "cell_type": "markdown",
   "metadata": {},
   "source": [
    "#### Submission samples are available in the `submission` folder\n",
    "\n",
    "Those examples shows how to configure a submission for the following use cases :\n",
    "- Simple submission using pre-implemented functions\n",
    "- Submission with a custom model\n",
    "- Submission with a custom scaler\n",
    "- Submission for a pre-trained model\n",
    "- Submission for scoring only\n",
    "\n",
    "Note : in the final phase of the competition, submission will always be re-trained to insure fairness.\n",
    "Note 2 : implementation of tensorflow is being prepared, currently the submission process only accept pytorch models.\n",
    "\n",
    "**This Notebook present the composition of a submission folder, for examples see notebook 7 :  `submission_examples` and related folder `submission`, for information on the technical environment see notebook 8  `technical environment`**"
   ]
  },
  {
   "cell_type": "markdown",
   "metadata": {},
   "source": [
    "## Composition\n",
    "\n",
    "A submission is will need to have the following files (depending on the submission type, see example):\n",
    "- parameters.json (mandatory) : file containing all the necessary parameters to configure a submission\n",
    "- config.ini : configuration file for the augmented simulator (which implement the model)\n",
    "- scaler_parameters.py : file containing a function that return the parameters for the scaler\n",
    "- my_augmented_simulator.py : file containing an implementation of a custom augmented simulator (which implement the model) that will be evaluated\n",
    "- my_scaler.py : file containing the implementation of a custom scaler\n",
    "- results.json : file containing pre-calculated results for which only the scores are evaluated (see notebook 4 and 5 for an example of implementation and notebook 7 for an example of file)\n",
    "\n",
    "There is also the possibility to add a folder for a pre-trained model:\n",
    "- trained_model : will contains the pre-trained model saved through an implementation of the \"save\" function (see notebook 7 for an example)"
   ]
  },
  {
   "cell_type": "markdown",
   "metadata": {},
   "source": [
    "## Submission\n",
    "Submission in codabench will be made through the \"My Submissions\" tab. A zip containing the files associated with the submission is uploaded.\n",
    "**Be careful to only compress the file and not the folder containing the file**"
   ]
  },
  {
   "cell_type": "markdown",
   "metadata": {},
   "source": [
    "## Files content"
   ]
  },
  {
   "cell_type": "markdown",
   "metadata": {},
   "source": [
    "### parameters.json\n",
    "\n",
    "This file is used to describe the submission. It indicates to the server which type of submission is being run (training, without training, scoring only) and how to configure it. "
   ]
  },
  {
   "cell_type": "code",
   "execution_count": null,
   "metadata": {},
   "outputs": [],
   "source": [
    "{\n",
    "  \"evaluateonly\": false,\n",
    "  \"scoringonly\": false,\n",
    "  \"simulator_config\": {\n",
    "    \"simulator_type\": \"simple_torch\",\n",
    "    \"simulator_file\": \"my_augmented_simulator\",\n",
    "    \"name\": \"MyAugmentedSimulator\",\n",
    "    \"model\": \"TorchFullyConnected\",\n",
    "    \"model_type\": \"fully_connected\",\n",
    "    \"scaler_type\": \"None\",\n",
    "    \"scaler_file\": \"None\",\n",
    "    \"scaler_class\": \"standard_scaler\",\n",
    "    \"scaler\": \"StandardScaler\",\n",
    "    \"config_name\": \"DEFAULT\",\n",
    "  },\n",
    "  \"simulator_extra_parameters\": {},\n",
    "  \"training_config\": {\n",
    "    \"epochs\": 1\n",
    "  }\n",
    "}\n"
   ]
  },
  {
   "cell_type": "markdown",
   "metadata": {},
   "source": [
    "- `evaluateonly` : set to true if training was already done and the trained model is provided in the `trained_model` folder. \n",
    "- `scoringonly` : set to true if training and evaluation was already done and a `results.json` file is provided.\n",
    "##### simulator_config\n",
    "This object is used to indicate the configuration of the augmented simulator :\n",
    "- `simulator_type`: string indicates the type of model being provided : `simple_torch`, `custom_torch` (LIPS model provided in simulator_file), `simple_tf`, `custom` (model provided in simulator_file)\n",
    "- `simulator_file`: File in which the custom model can be found (at the root of the folder) **without the '.py'**\n",
    "- `name`: Name of the simulator\n",
    "- `model`: Model name, either of the implementation in `simulator_file.py`or of an available model in LIPS\n",
    "- `model_type`: Used for model already implemented in LIPS for loading  \n",
    "- `scaler_type`: string indicates the type of model being provided : `simple`, `custom`, `None` (note, for a custom simulator implementation the scaler need to be implemented in the model, no scaler is passed)\n",
    "- `scaler_file`: File in which the custom scaler can be found (at the root of the folder) **without the '.py'**\n",
    "- `scaler_class`: Used for scaler already implemented in LIPS for loading\n",
    "- `scaler`: Name of the scaler to be loaded either from LIPS or `scaler_file`\n",
    "- `config_name`: Name of the configuration to be used from `config.ini`\n",
    "##### simulator_extra_parameters\n",
    "- `simulator_extra_parameters`: An object containing custom input parameters for the model, it will be passed to the model. \n",
    "##### training_config\n",
    "- `training_config`: An object containing input parameters for the training phase, it will be passed when the `train` function is called. \n"
   ]
  },
  {
   "cell_type": "markdown",
   "metadata": {},
   "source": [
    "### config.ini\n",
    "\n",
    "Configuration file for the model, see `4_How_to_contribute`, the section defined by `config_name` will be used."
   ]
  },
  {
   "cell_type": "markdown",
   "metadata": {},
   "source": [
    "### scaler_parameter.py\n",
    "\n",
    "This file is used to generate the parameters for the scaler. The example provided show how to use it for recreating the 1st example from `4_How_to_contribute`"
   ]
  },
  {
   "cell_type": "markdown",
   "metadata": {},
   "source": [
    "### my_augmented_simulator.py\n",
    "\n",
    "This file is used to implement a custom model. This model needs to be runnable by the ingestion process. Notebook 7 presents example for reproducing the 2nd example from `4_How_to_contribute` and `3b_Reproduce_baseline_result_advanced_configuration`. \n",
    "A custom model will need to implement the following function in order to be runnable in the ingestion process :\n",
    "- __init__(self,benchmark,**kwargs)\n",
    "- train(self,train_dataset, save_path=None)\n",
    "- predict(self,dataset,**kwargs)"
   ]
  },
  {
   "cell_type": "markdown",
   "metadata": {},
   "source": [
    "### my_scaler.py\n",
    "\n",
    "This file is used to implement a custom scaler. The example provided show how to use it for recreating an already implemented scaler (used in `4_How_to_contribute`). "
   ]
  },
  {
   "cell_type": "markdown",
   "metadata": {},
   "source": [
    "### results.json\n",
    "\n",
    "Used in combination with `scoringonly`: true, no training or evaluation will be run, the file will be send directly for scoring (only available during the warmup phase)"
   ]
  },
  {
   "cell_type": "markdown",
   "metadata": {},
   "source": [
    "### trained_model\n",
    "\n",
    "Used in combination with `evaluateonly`: true, contains a saved trained model (using the save function from the simulator). In this case, training is skipped and the saved model loaded."
   ]
  }
 ],
 "metadata": {
  "kernelspec": {
   "display_name": "Python 3 (ipykernel)",
   "language": "python",
   "name": "python3"
  },
  "language_info": {
   "codemirror_mode": {
    "name": "ipython",
    "version": 3
   },
   "file_extension": ".py",
   "mimetype": "text/x-python",
   "name": "python",
   "nbconvert_exporter": "python",
   "pygments_lexer": "ipython3",
   "version": "3.8.10"
  }
 },
 "nbformat": 4,
 "nbformat_minor": 4
}
