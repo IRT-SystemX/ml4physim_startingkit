{
 "cells": [
  {
   "cell_type": "markdown",
   "id": "10b0ae78-df20-440c-9af4-e75f4b5cb828",
   "metadata": {},
   "source": [
    "# Import Airfoil design Dataset"
   ]
  },
  {
   "cell_type": "markdown",
   "id": "f9692985-6e99-48d0-9b37-8cfac5d3887d",
   "metadata": {},
   "source": [
    "The aim of this notebook is to shows how the challenge datasets could be downloaded and imported using LIPS features."
   ]
  },
  {
   "cell_type": "markdown",
   "metadata": {},
   "source": [
    "### Prerequisites"
   ]
  },
  {
   "cell_type": "markdown",
   "metadata": {},
   "source": [
    "Install the LIPS framework if it is not already done. For more information look at the LIPS framework [Github repository](https://github.com/IRT-SystemX/LIPS) "
   ]
  },
  {
   "cell_type": "code",
   "execution_count": null,
   "metadata": {},
   "outputs": [],
   "source": [
    "# !pip install -r requirements.txt\n",
    "# or \n",
    "# !pip install -U ."
   ]
  },
  {
   "cell_type": "markdown",
   "metadata": {},
   "source": [
    "Install the AirfRANS package"
   ]
  },
  {
   "cell_type": "code",
   "execution_count": null,
   "metadata": {},
   "outputs": [],
   "source": [
    "# !pip install airfrans"
   ]
  },
  {
   "cell_type": "code",
   "execution_count": null,
   "id": "5f73a3f0-d4fb-4c30-ad94-a3257abff46e",
   "metadata": {},
   "outputs": [],
   "source": [
    "#### Import required packages\n",
    "import os\n",
    "from lips import get_root_path\n",
    "from lips.dataset.airfransDataSet import download_data\n",
    "from lips.benchmark.airfransBenchmark import AirfRANSBenchmark"
   ]
  },
  {
   "cell_type": "code",
   "execution_count": null,
   "id": "e9c8f4f6-e107-4578-b23f-7477b0235af6",
   "metadata": {},
   "outputs": [],
   "source": [
    "# indicate required paths\n",
    "LIPS_PATH = get_root_path()\n",
    "DIRECTORY_NAME = 'Dataset'\n",
    "BENCHMARK_NAME = \"Case1\"\n",
    "LOG_PATH = LIPS_PATH + \"lips_logs.log\""
   ]
  },
  {
   "cell_type": "markdown",
   "id": "e3aca6bb-319c-4863-866c-aafb3d1d4c94",
   "metadata": {},
   "source": [
    "Define the configuration files path."
   ]
  },
  {
   "cell_type": "code",
   "execution_count": null,
   "id": "91a6e78d-63f3-4dc6-a726-029ca64fe0b3",
   "metadata": {},
   "outputs": [],
   "source": [
    "BENCH_CONFIG_PATH = os.path.join(\"airfoilConfigurations\",\"benchmarks\",\"confAirfoil.ini\") #Configuration file related to the benchmark"
   ]
  },
  {
   "cell_type": "markdown",
   "id": "a273fec9-db8c-4375-9966-3ecddf359a36",
   "metadata": {},
   "source": [
    "Download the data"
   ]
  },
  {
   "cell_type": "code",
   "execution_count": null,
   "id": "f177b87c-003a-496d-b89a-0d8de1d258e9",
   "metadata": {},
   "outputs": [],
   "source": [
    "if not os.path.isdir(DIRECTORY_NAME):\n",
    "    download_data(root_path=\".\", directory_name=DIRECTORY_NAME)"
   ]
  },
  {
   "cell_type": "markdown",
   "id": "6c3f5a32-2d3a-4bbc-b5f9-d6b2ce251b7f",
   "metadata": {},
   "source": [
    "In order to load the data on disk, we rely on the `load` method of the dedicated benchmark class. On could also load individually each dataset if required.\n",
    "\n",
    "However, note that in the context of this competition, the datasets considered are loaded by using the airfrans dataset but with some modifications, namely:\n",
    "\n",
    "- Train dataset: 'scarce' task, training split, filtered to keep the simulation where the number of reynolds is between 3e6  and 5e6\n",
    "- Test dataset: 'full' task, testing split\n",
    "- OOD dataset: reynolds task, testing split"
   ]
  },
  {
   "cell_type": "code",
   "execution_count": null,
   "id": "38c027e1-8507-4f8e-b4ff-8963aae4d6ff",
   "metadata": {},
   "outputs": [],
   "source": [
    "benchmark=AirfRANSBenchmark(benchmark_path = DIRECTORY_NAME,\n",
    "                            config_path = BENCH_CONFIG_PATH,\n",
    "                            benchmark_name = BENCHMARK_NAME,\n",
    "                            log_path = LOG_PATH)\n",
    "benchmark.load(path=DIRECTORY_NAME)"
   ]
  },
  {
   "cell_type": "markdown",
   "id": "c7e7c5c1-3818-4287-8630-69a2bedcdcd8",
   "metadata": {},
   "source": [
    "We can also have a look at the datasets loaded (meaning all the features, labels)"
   ]
  },
  {
   "cell_type": "code",
   "execution_count": null,
   "id": "9d4220ef-0396-4503-a0dc-bf8521aff55d",
   "metadata": {},
   "outputs": [],
   "source": [
    "print(\"train dataset: \", benchmark.train_dataset)\n",
    "print(\"test dataset: \", benchmark._test_dataset )\n",
    "print(\"test dataset: \", benchmark._test_ood_dataset )"
   ]
  },
  {
   "cell_type": "markdown",
   "id": "4a0f206c-c047-4050-8134-e5a0a3f58158",
   "metadata": {},
   "source": [
    "For each dataset, the number of samples within it is the overall number of nodes in the whole dataset. Therefore, each variable within the dataset arises from the concatenation of each nodal quantities\n",
    "\n",
    "Thus, it can also be intesresting to retrieve the number of physical simulation in each of them. It can be done with the method `get_simulations_sizes` from the `Dataset` class."
   ]
  },
  {
   "cell_type": "code",
   "execution_count": null,
   "id": "ce3bafde-759e-4835-bb7d-e6a1e4fb04f8",
   "metadata": {},
   "outputs": [],
   "source": [
    "for datasetName,dataset in zip([\"Train\",\"Test\",\"OOD\"],[benchmark.train_dataset,benchmark._test_dataset,benchmark._test_ood_dataset]):\n",
    "    print(\"%s dataset: \"%datasetName)\n",
    "    print(\"\\t Number of simulations:\", len(dataset.get_simulations_sizes()))"
   ]
  }
 ],
 "metadata": {
  "kernelspec": {
   "display_name": "Python 3 (ipykernel)",
   "language": "python",
   "name": "python3"
  },
  "language_info": {
   "codemirror_mode": {
    "name": "ipython",
    "version": 3
   },
   "file_extension": ".py",
   "mimetype": "text/x-python",
   "name": "python",
   "nbconvert_exporter": "python",
   "pygments_lexer": "ipython3",
   "version": "3.8.10"
  }
 },
 "nbformat": 4,
 "nbformat_minor": 5
}
